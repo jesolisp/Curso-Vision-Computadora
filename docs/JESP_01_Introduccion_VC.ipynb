{
 "cells": [
  {
   "cell_type": "markdown",
   "metadata": {},
   "source": [
    "# Introducción a la Visión por Computadora"
   ]
  },
  {
   "cell_type": "markdown",
   "metadata": {},
   "source": [
    "### Información del curso:\n",
    "- **Nombre del curso**: Seminario Especial de Computación (Visión por Computadora)\n",
    "- **Profesor**: Dr. Jesús Emmanuel Solís Pérez\n",
    "- **Email**: jsolisp@unam.mx\n",
    "- **Semestre**: 2025-2\n",
    "- **Enlace del curso**: [https://jesolisp.github.io/Curso-Vision-Computadora](https://jesolisp.github.io/Curso-Vision-Computadora/docs/home.html)\n",
    "\n",
    "---\n",
    "\n",
    "### Información del Notebook:\n",
    "- **Título del Notebook**: \n",
    "- **Versión**: 1.0\n",
    "- **Última modificación**: Enero 06, 2025\n",
    "- **Descripción**: \n",
    "\n",
    "---\n",
    "\n",
    "### Instrucciones:\n",
    "1. **Orden de ejecución de celdas**: Ejecute las celdas en el orden presentado para garantizar que las dependencias se manejen adecuadamente.\n",
    "2. **Envío**: Guarde y envíe este cuaderno como un archivo `.ipynb` antes de la fecha de vencimiento.\n",
    "3. **Comentarios y documentación**: asegúrese de agregar comentarios y documentación adecuados a su código.\n",
    "\n",
    "---\n",
    "\n",
    "### Licencia:\n",
    "- Este cuaderno se proporciona únicamente con fines educativos. Todos los derechos reservados © 2024 ENES Juriquilla.\n",
    "\n",
    "---"
   ]
  },
  {
   "cell_type": "markdown",
   "metadata": {
    "vscode": {
     "languageId": "plaintext"
    }
   },
   "source": [
    "## Fundamentos de la imagen digital\n",
    "\n",
    "Una imagen puede ser definida como una función $f(x,y)$ donde $x$, $y$ son coordenadas *espaciales*. Además, la amplitud de $f$ en cualquier par de coordenadas $(x,y)$ es llamada *intensidad* o *nivel de gris*. Cuando $x$, $y$, y la amplitud de $f$ son finitos, entonces llamamos a la imagen *imagen digital*.\n",
    "\n",
    "Otro de los conceptos utilizados es *procesamiento digital de imagen* que hace referencia al procesamiento de imágenes por medio de una computadora. Si una imagen está compuesta por un número finito de elementos, cada uno de ellos tiene una localización y valor particular. Estos elementos hacen referencia a *elementos de imagen*, *pels* o *pixeles*. Un *pixel* es un termino para representar los elementos de una imagen digital.\n",
    "\n",
    "### Estructura del ojo humano\n",
    "\n",
    "La Figura \\ref{fig:human_eye} muestra una sección transversal del ojo humano. El ojo humano es una semiesfera con un diámetro de aproximadamente 20 mm. El ojo es casi una esfera, con un diámetro promedio de aproximadamente 20 mm. Tres membranas encierran el ojo: la cubierta exterior de la córnea y la esclerótica; la coroides; y la retina. La córnea es un tejido duro y transparente que cubre la superficie anterior del ojo mientras que la esclerótica es una membrana opaca que encierra el resto del globo óptico.\n",
    "\n",
    "```{figure} images/human_eye.png\n",
    " ---\n",
    " height: 280px\n",
    " width: 440px\n",
    " name: fig:human_eye\n",
    " ---\n",
    " Diagrama de una sección transversal del ojo humano.\n",
    "```\n",
    "\n",
    "### Adaptación de brillo y discriminación\n",
    "\n",
    "Debido a que las imágenes digitales se muestran como un conjunto discreto de intensidades, la habilidad del para distinguir entre los diferentes niveles de intensidad es una consideración importante para presentar resultados en el procesamiento de imágenes. El rango de los niveles de intensidad de la luz donde el ojo puede adaptarse va desde el umbral escotópico hasta el límite del deslumbramiento.\n",
    "\n",
    "## Modelo de formación de imágenes\n",
    "\n",
    "El valor o amplitud de $f$ en coordenadas espaciales $(x,y)$ es una cantidad escalar positiva cuyo significado físico está determinado por la fuente de la imagen. Cuando una imagen es generada desde un proceso físico, sus valores son proporcionales a la energía radiada por una fuente física. Como consecuencia, $f(x,y)$ debe ser finito y diferente de cero\n",
    "\n",
    "$$\n",
    " 0 < f(x,y) < \\infty.\n",
    "$$\n",
    "\n",
    "La función $f(x,y)$ podría estár representada por dos componentes:\n",
    "1. La cantidad de iluminación de la fuente incidente sobre la escena que se está viendo.\n",
    "2. La cantidad de iluminación reflejada por los objetos en la escena.\n",
    "\n",
    "En procesamiento de imágenes, a estos elementos los llamamos *componentes de iluminación* y *reflectancia*  denotados por $i(x, y)$ y $r(x, y)$, respectivamente. \n",
    "\n",
    "Estos componentes se combinan matematicamente para formar $f(x, y)$ como sigue\n",
    "\n",
    "$$\n",
    " f(x, y) = i(x, y)\\cdot r(x, y),\n",
    "$$\n",
    "donde\n",
    "\n",
    "$$\n",
    " 0 < i(x, y) < \\infty,\n",
    "$$ (eq:illumination)\n",
    "y\n",
    "\n",
    "$$\n",
    " 0 < r(x, y) < 1.\n",
    "$$ (eq:reflectance)\n",
    "\n",
    "Las Ecs. {eq}`eq:illumination` y {eq}`eq:reflectance` que la reflectancia está delimitada por 0 (total absorción) y 1 (total reflectancia). La naturaleza de $i(x, y)$ está determinada por la fuente de iluminación, y $r(x, y)$ está determinada por las características de los objetos de la imagen."
   ]
  },
  {
   "cell_type": "markdown",
   "metadata": {},
   "source": []
  }
 ],
 "metadata": {
  "language_info": {
   "name": "python"
  }
 },
 "nbformat": 4,
 "nbformat_minor": 2
}
